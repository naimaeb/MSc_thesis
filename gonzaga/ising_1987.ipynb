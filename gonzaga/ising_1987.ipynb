{
 "cells": [
  {
   "cell_type": "code",
   "execution_count": 105,
   "metadata": {},
   "outputs": [],
   "source": [
    "import sklearn as skl\n",
    "import matplotlib.pyplot as plt\n",
    "import numpy as np\n",
    "import sys\n",
    "from scipy.stats import mode\n",
    "import scipy.integrate as integrate\n",
    "import warnings\n",
    "warnings.filterwarnings('ignore')\n",
    "\n",
    "from sklearn.utils.validation import check_is_fitted\n",
    "from sklearn.cluster import SpectralClustering\n",
    "from scipy.io import loadmat\n",
    "\n",
    "#Please use in all section ex"
   ]
  },
  {
   "cell_type": "markdown",
   "metadata": {},
   "source": [
    "# Define the Ising model in Derrida et al., 1987"
   ]
  },
  {
   "cell_type": "code",
   "execution_count": 125,
   "metadata": {},
   "outputs": [],
   "source": [
    "#part of code from https://github.com/Patrick-Louden/Ising-Model/blob/master/ising.py\n",
    "\n",
    "import math\n",
    "import random\n",
    "\n",
    "\n",
    "class Ising(skl.base.BaseEstimator, skl.base.TransformerMixin):\n",
    "    def __init__(self,n_spins = 1000, temperature = 1.0, sparsity = 2, seed = 117, p=2, overlap = 0.8):\n",
    "        \n",
    "        self.temperature = temperature\n",
    "        self.n_spins = n_spins\n",
    "        self.sparsity = sparsity\n",
    "        self.n_C = 2\n",
    "        #np.ceil(np.log(n_spins)/sparsity).astype(int) #defined as in gardner, where C << logN\n",
    "        self.p = p #number of patterns\n",
    "        self.seed = seed\n",
    "        \n",
    "        \n",
    "        #choose initial condition to align with one pattern (eg. 0.8 aligned)\n",
    "        self.spins = np.random.randint(2,size = (self.n_spins, 1))*2 -1 #initialize spin configuration, column vector\n",
    "        #self.spins = spins\n",
    "        self.overlap = overlap #quantify the amount of overal you want with the first pattern and the inital spins\n",
    "    \n",
    "    \n",
    "    def getSpins(self):\n",
    "        np.random.seed(self.seed)\n",
    "        return self.spins\n",
    "    \n",
    "    def getConnectivity(self):\n",
    "        return self.n_C\n",
    "    \n",
    "    def getPatterns(self):\n",
    "        return self.p\n",
    "    \n",
    "    def getSparsity(self):\n",
    "        return self.sparsity    \n",
    "    \n",
    "    def randomPatterns(self):\n",
    "        np.random.seed(self.seed)\n",
    "        \n",
    "        aligned_pattern = np.copy(self.spins).reshape(1,self.n_spins,1)\n",
    "             \n",
    "        pattern_tensor = np.tile(aligned_pattern,(1,1,self.p-1))\n",
    "        \n",
    "        #Microscopic alignment patterns (scale with sqrt(N))  \n",
    "        for i in range(self.p-1):\n",
    "            idx_no_align_micro = random.sample(range(self.n_spins),\n",
    "                                               int((1-((self.overlap)/np.sqrt(self.n_spins)))*self.n_spins))            \n",
    "            pattern_tensor[:,idx_no_align_micro,i] = aligned_pattern[:,idx_no_align_micro,0]*-1\n",
    "               \n",
    "        #aligned pattern (macroscopic: alignment not changing with N)        \n",
    "        idx_no_align_macro = random.sample(range(self.n_spins),int((1-self.overlap)*self.n_spins))\n",
    "        aligned_pattern[:,idx_no_align_macro,:] = aligned_pattern[:,idx_no_align_macro,:]*-1\n",
    "\n",
    "        pattern_tensor_full = np.concatenate((aligned_pattern, pattern_tensor), axis = 2)\n",
    "\n",
    "        return pattern_tensor_full, aligned_pattern\n",
    "        \n",
    "    def randomPatternMatrix(self):\n",
    "        np.random.seed(self.seed)\n",
    "        patterns_1d, pattern = self.randomPatterns()\n",
    "        pattern_matrix = np.tile(patterns_1d, (self.n_spins,1,1))\n",
    "        return pattern_matrix\n",
    "\n",
    "    def setTemperature(self,newTemperature):\n",
    "        self.temperature = newTemperature  \n",
    "\n",
    "    def getTemperature(self):\n",
    "        return self.temperature\n",
    "\n",
    "    def setConnectivity(self):\n",
    "        np.random.seed(self.seed)\n",
    "        '''\n",
    "        Create the connectivity matrix C, where the probability of Cij = 1 is C/N. Note that Cij does not\n",
    "        have to equal Cji. Also, there is no self-connectivity, so the diagonal of C is all 0's\n",
    "        '''\n",
    "        C_mat = np.random.binomial(1, self.n_C/self.n_spins, (self.n_spins,self.n_spins))\n",
    "        np.fill_diagonal(C_mat, 0)#no self connectivity in the model\n",
    "        return C_mat\n",
    "    \n",
    "    def setWeights(self):\n",
    "        np.random.seed(self.seed)\n",
    "        pattern_matrix = self.randomPatternMatrix()\n",
    "        interactions = np.multiply(pattern_matrix, np.transpose(pattern_matrix,(1,0,2)))#look at the interactions within spins\n",
    "        interacions_across_patterns = np.sum(interactions, axis = 2)#sum the interactions across patterns\n",
    "        C_mat = self.setConnectivity()\n",
    "        J_mat = np.multiply(C_mat, interacions_across_patterns)\n",
    "        return J_mat\n",
    "    \n",
    "    def computeField(self):\n",
    "        np.random.seed(self.seed)\n",
    "        J_mat = self.setWeights()\n",
    "        field_matrix = J_mat@self.spins\n",
    "        return field_matrix\n",
    "    \n",
    "    def getProbabilitySpin(self):\n",
    "        '''\n",
    "        Define the probability that the spin when updated equals +1, 1-prob = spin equals -1.\n",
    "        '''\n",
    "       \n",
    "        field = self.computeField()#get the field at time = t\n",
    "        temp = self.getTemperature() #get the temperature T\n",
    "        prob = (1/(1+np.exp(-2*field/temp)))\n",
    "        return prob\n",
    "    \n",
    "    def updateSpin(self):\n",
    "        '''\n",
    "        Update spins based on field and the probability of the spin value\n",
    "        '''\n",
    "        np.random.seed(self.seed)\n",
    "\n",
    "        spin_new = np.ones((self.n_spins,1))\n",
    "        prob = self.getProbabilitySpin()\n",
    "        rand_val = np.random.uniform(0,1) #if value is below prob, set spin to +1, else to -1\n",
    "        \n",
    "        for i in range(self.n_spins):\n",
    "            prob_spin = prob[i]\n",
    "            if rand_val > prob_spin:\n",
    "                spin_new[i] = 1\n",
    "        \n",
    "        self.spins = np.copy(spin_new)\n",
    "        \n",
    "        \n",
    "    def individualMean(self, idx):\n",
    "        '''\n",
    "        Calculate the interaction between an individual spin and the corresponding value in pattern 1\n",
    "        \n",
    "        Arguments:\n",
    "            idx (int): index at which you want to compute the interaction\n",
    "            pattern(int): pattern index with which you are looking at the overlap\n",
    "           \n",
    "        '''\n",
    "        np.random.seed(self.seed)\n",
    "        patterns, pattern = self.randomPatterns()\n",
    "        individual_pattern = pattern[:,idx,:]\n",
    "        \n",
    "        spins = self.spins\n",
    "        individual_spin = spins[idx]\n",
    "        \n",
    "        individual_mean = np.int(individual_pattern)*np.int(individual_spin)\n",
    "        \n",
    "        return individual_mean\n",
    "    \n",
    "    def averageMean(self):\n",
    "        '''\n",
    "        Calculate the averge mean field for all spins\n",
    "        \n",
    "        Arguments:\n",
    "            pattern(int): pattern index with which you are looking at the overlap\n",
    "        \n",
    "        '''\n",
    "        np.random.seed(self.seed)\n",
    "        #patterns, pattern = self.randomPatterns()#define the matrix of patterns and the one that will align\n",
    "        normalization = 1/self.n_spins\n",
    "        avg_mean = 0\n",
    "        \n",
    "        for idx in range(self.n_spins):\n",
    "            indiv_mean = self.individualMean(idx)\n",
    "            avg_mean += indiv_mean\n",
    "            \n",
    "        avg_mean_norm = normalization*avg_mean\n",
    "        \n",
    "        return np.float64(avg_mean_norm)\n",
    "    \n",
    "    def averageMeanAllPatterns(self):\n",
    "        \n",
    "        np.random.seed(self.seed)\n",
    "        patterns, pattern = self.randomPatterns()\n",
    "        \n",
    "        normalization = 1/self.n_spins\n",
    "        print(patterns[0,:,:].T.shape)\n",
    "        print(self.spins.shape)\n",
    "        means = normalization*patterns[0,:,:].T@self.spins\n",
    "        \n",
    "        return means\n",
    "    \n",
    "        \n",
    "    def simulateMeans(self,epochs):\n",
    "        '''\n",
    "        Run a simulation with a fixed temperature and capacity (alpha) for a certain amount of epochs\n",
    "        '''\n",
    "        \n",
    "        np.random.seed(self.seed)\n",
    "    \n",
    "        patterns, aligned_pattern = self.randomPatterns()\n",
    "        init_mean = np.copy(self.averageMean()).item()\n",
    "        means = [init_mean]\n",
    "\n",
    "        for e in range(epochs):\n",
    "            self.updateSpin()\n",
    "            mean_new = np.copy(self.averageMean()).item()\n",
    "            means.append(mean_new)\n",
    "\n",
    "        return means\n",
    "\n",
    "\n"
   ]
  },
  {
   "cell_type": "code",
   "execution_count": 126,
   "metadata": {},
   "outputs": [],
   "source": [
    "def analyticUpdate(m, a, T, epochs):\n",
    "    '''\n",
    "    Function takes the mean magnetization and returns a fixed temperature and capacity and returns the mean at the \n",
    "    next time step.\n",
    "    '''\n",
    "    \n",
    "    f_m = [m]\n",
    "   \n",
    "    for e in range(epochs):\n",
    "        \n",
    "        g = lambda x: (np.exp(-x**2)*np.tanh((f_m[e]-x*np.sqrt(2*a))/T))/np.sqrt(np.pi) #euqation (18) in Derrida 1987 paper\n",
    "        f = integrate.quad(g, -np.inf, np.inf)\n",
    "        f_m.append(f[0])\n",
    "        \n",
    "    return f_m\n",
    "    \n",
    "    \n",
    "    "
   ]
  },
  {
   "cell_type": "code",
   "execution_count": 92,
   "metadata": {},
   "outputs": [
    {
     "name": "stdout",
     "output_type": "stream",
     "text": [
      "(10, 100)\n",
      "(100, 1)\n"
     ]
    }
   ],
   "source": [
    "IS = Ising(n_spins = 100)\n",
    "prob= IS.getProbabilitySpin()\n",
    "spins = IS.getSpins()\n",
    "J_mat = IS.setWeights()\n",
    "C_mat = IS.setConnectivity()\n",
    "C_constant = IS.getConnectivity()\n",
    "\n",
    "rand_patterns, rand_pattern = IS.randomPatterns()\n",
    "\n",
    "indiv_mean = IS.individualMean(3)\n",
    "all_means = IS.averageMeanAllPatterns()"
   ]
  },
  {
   "cell_type": "code",
   "execution_count": 104,
   "metadata": {},
   "outputs": [
    {
     "name": "stdout",
     "output_type": "stream",
     "text": [
      "[[ 0.62]\n",
      " [-0.84]\n",
      " [-0.84]\n",
      " [-0.84]\n",
      " [-0.84]\n",
      " [-0.84]\n",
      " [-0.84]\n",
      " [-0.84]\n",
      " [-0.84]\n",
      " [-0.84]]\n",
      "[-84]\n"
     ]
    }
   ],
   "source": [
    "#print(rand_patterns)\n",
    "print(all_means)\n",
    "#print(rand_patterns[0,:,2].T@rand_patterns[0,:,3])\n",
    "print(rand_patterns[0,:,7].T@spins)"
   ]
  },
  {
   "cell_type": "code",
   "execution_count": 127,
   "metadata": {},
   "outputs": [
    {
     "name": "stdout",
     "output_type": "stream",
     "text": [
      "Probability wrong in :\n",
      "(array([], dtype=int64), array([], dtype=int64))\n",
      "(array([], dtype=int64), array([], dtype=int64))\n"
     ]
    }
   ],
   "source": [
    "#Check that all probabilities are between 0 and 1\n",
    "\n",
    "print(\"Probability wrong in :\")\n",
    "print(np.where(prob > 1))\n",
    "print(np.where(prob <0))"
   ]
  },
  {
   "cell_type": "code",
   "execution_count": 128,
   "metadata": {},
   "outputs": [],
   "source": [
    "#run simulation for T = t\n",
    "\n",
    "def run_sim(epochs, IS):\n",
    "    \n",
    "    patterns, aligned_pattern = IS.randomPatterns()\n",
    "    init_mean = np.copy(IS.averageMean()).item()\n",
    "    means = [init_mean]\n",
    "    \n",
    "    for e in range(epochs):\n",
    "        IS.updateSpin()\n",
    "        mean_new = np.copy(IS.averageMean()).item()\n",
    "        means.append(mean_new)\n",
    "    \n",
    "    return means\n",
    "        \n",
    "    "
   ]
  },
  {
   "cell_type": "code",
   "execution_count": 129,
   "metadata": {},
   "outputs": [
    {
     "name": "stdout",
     "output_type": "stream",
     "text": [
      "[0.63, 0.594, 0.578, 0.5760000000000001, 0.588, 0.5720000000000001, 0.64, 0.622, 0.624, 0.654, 0.586, 0.552, 0.612, 0.612, 0.606, 0.6, 0.594, 0.602, 0.608, 0.604, 0.612, 0.558, 0.612, 0.624, 0.602, 0.616, 0.636, 0.598, 0.622, 0.604, 0.61, 0.588, 0.588, 0.58, 0.616, 0.592, 0.624, 0.592, 0.592, 0.64, 0.586, 0.622, 0.622, 0.582, 0.602, 0.5740000000000001, 0.6, 0.5740000000000001, 0.612, 0.596, 0.618, 0.58, 0.64, 0.61, 0.596, 0.59, 0.632, 0.594, 0.644, 0.558, 0.654, 0.592, 0.562, 0.626, 0.582, 0.61, 0.634, 0.5680000000000001, 0.584, 0.634, 0.67, 0.598, 0.56, 0.614, 0.62, 0.5660000000000001, 0.632, 0.596, 0.598, 0.624, 0.616, 0.658, 0.616, 0.622, 0.604, 0.5660000000000001, 0.586, 0.598, 0.65, 0.598, 0.612, 0.592, 0.598, 0.5720000000000001, 0.5760000000000001, 0.608, 0.62, 0.644, 0.5700000000000001, 0.594, 0.5760000000000001]\n"
     ]
    }
   ],
   "source": [
    "IS = Ising(seed = 13)\n",
    "means = IS.simulateMeans(100)#argument is number of epochs\n",
    "C = IS.getConnectivity()\n",
    "p = IS.getPatterns()\n",
    "\n",
    "alpha = (p-1)/C\n",
    "\n",
    "print(means)"
   ]
  },
  {
   "cell_type": "code",
   "execution_count": 130,
   "metadata": {},
   "outputs": [],
   "source": [
    "analytic_means = analyticUpdate(means[0], alpha, 1.0, 100)"
   ]
  },
  {
   "cell_type": "code",
   "execution_count": 131,
   "metadata": {},
   "outputs": [
    {
     "name": "stdout",
     "output_type": "stream",
     "text": [
      "[0.63, 0.4320172601259291, 0.30529113380361267, 0.21870251028088822, 0.15772470187562784, 0.11413613494189313, 0.08273919087203706, 0.06003420403103992, 0.04358086365358, 0.03164485942828764, 0.022980982560579667, 0.016690318873774205, 0.012122070938446555, 0.008804354572051903, 0.006394737468231244, 0.004644621031185228, 0.003373487453418465, 0.0024502397079374898, 0.0017796655592936352, 0.0012926126497306333, 0.0009388549584526239, 0.000681912510185746, 0.0004952891777496657, 0.00035974025107459004, 0.00026128786230653723, 0.0001897795629114895, 0.00013784139207239848, 0.00010011746852574545, 7.271768927106117e-05, 5.281658050806913e-05, 3.8361933740820694e-05, 2.786318134318864e-05, 2.0237688743461457e-05, 1.4699112806096205e-05, 1.0676313883039078e-05, 7.754459669871615e-06, 5.632247743094158e-06, 4.090834950470934e-06, 2.9712703267610582e-06, 2.158104020736837e-06, 1.567482070655095e-06, 1.1384993578864169e-06, 8.269190520324413e-07, 6.00610895239846e-07, 4.3623792027282314e-07, 3.168499349270658e-07, 2.3013561316952365e-07, 1.6715294722909068e-07, 1.2140714504215786e-07, 8.818088527744184e-08, 6.404786578718147e-08, 4.651948205570719e-08, 3.378820173793116e-08, 2.4541124303500992e-08, 1.78247657822813e-08, 1.2946524846168021e-08, 9.403349672195744e-09, 6.8298625382073135e-09, 4.960681457553491e-09, 3.6030535564510387e-09, 2.6169781192358974e-09, 1.9007695539326376e-09, 1.3805712999404659e-09, 1.0027397082093686e-09, 7.283121918522248e-10, 5.289893954846578e-10, 3.842167971691342e-10, 2.790651991746003e-10, 2.0269127145191619e-10, 1.472191796030737e-10, 1.0692856095481194e-10, 7.766459427557093e-11, 5.640950852663349e-11, 4.09714997997296e-11, 2.975848744680491e-11, 2.161424249701909e-11, 1.5698934281721693e-11, 1.1402480633072412e-11, 8.281866719366293e-12, 6.015303497959044e-12, 4.3690279753072e-12, 3.173329911772521e-12, 2.304883863638399e-12, 1.6740686985404596e-12, 1.215899779225616e-12, 8.831581592339375e-13, 6.414419668649696e-13, 4.659285697032607e-13, 3.3839750361549394e-13, 2.457926601338768e-13, 1.7852300756047028e-13, 1.2965970053082562e-13, 9.416374104129707e-14, 6.837473679955404e-14, 4.968125281545265e-14, 3.608544032333635e-14, 2.6223838314028658e-14, 1.9040679067035823e-14, 1.3869246022971955e-14, 1.0090661900956128e-14, 7.325812839694474e-15]\n"
     ]
    }
   ],
   "source": [
    "print(analytic_means)"
   ]
  },
  {
   "cell_type": "code",
   "execution_count": 25,
   "metadata": {},
   "outputs": [],
   "source": [
    "#run simulation for different temperatures and look at the last magnetization value for each simulation\n",
    "\n",
    "def run_simulation_temp(t_array, epochs):\n",
    "    '''\n",
    "    Runs the simulation of parallel mean field updates.\n",
    "    \n",
    "    Arguments:\n",
    "        t_array(np.array): array with the different temperature values\n",
    "        epochs(int): number of epochs you want to run each individual simulation for\n",
    "    '''\n",
    "    magnetization = []\n",
    "    stdev = []\n",
    "    for t in t_array:\n",
    "        IS = Ising(temperature = t)\n",
    "        means = IS.simulateMeans(epochs)\n",
    "        mean_means = np.mean(means)\n",
    "        std = np.std(means)\n",
    "        magnetization.append(mean_means)\n",
    "        stdev.append(std)\n",
    "        \n",
    "    return magnetization, stdev\n",
    "\n",
    "        \n",
    "        "
   ]
  },
  {
   "cell_type": "code",
   "execution_count": 28,
   "metadata": {},
   "outputs": [],
   "source": [
    "#run simulation for different temperatures\n",
    "\n",
    "t_array = np.linspace(0.01, 100, num = 100)\n",
    "epochs = 50\n",
    "\n",
    "magnetization, std = run_simulation_temp(t_array, epochs)\n",
    "        "
   ]
  },
  {
   "cell_type": "code",
   "execution_count": 29,
   "metadata": {},
   "outputs": [
    {
     "name": "stdout",
     "output_type": "stream",
     "text": [
      "0.054252017734097206 0.005396005941633721\n"
     ]
    },
    {
     "data": {
      "image/png": "[encoded data removed]",
      "text/plain": [
       "<Figure size 432x288 with 1 Axes>"
      ]
     },
     "metadata": {
      "needs_background": "light"
     },
     "output_type": "display_data"
    }
   ],
   "source": [
    "#plot simulation results     \n",
    "\n",
    "\n",
    "plt.scatter(t_array, magnetization, s=50, marker='o', color='RoyalBlue')\n",
    "plt.errorbar(t_array, magnetization, yerr=std, fmt='.k')\n",
    "plt.xlabel(\"Temperature (T)\", fontsize=20); \n",
    "plt.ylabel(\"Magnetization \", fontsize=20);   plt.axis('tight')\n",
    "\n",
    "print(np.mean(std),np.std(std))"
   ]
  },
  {
   "cell_type": "markdown",
   "metadata": {},
   "source": [
    "# Simulation 2: fix T to 0.01 and look at alpha and magnetization (keep number of patterns fixed)\n",
    "\n",
    "### Assume there are 10 patterns\n",
    "\n"
   ]
  },
  {
   "cell_type": "code",
   "execution_count": 7,
   "metadata": {},
   "outputs": [],
   "source": [
    "p = 10\n",
    "\n",
    "IS = Ising(seed= 777, p = p)\n",
    "sparsity_factor = IS.getSparsity() #divides log(N) to set C in the class\n",
    "C_critical = ((p-1)*np.pi)/2 #in Derrida paper alpha_c is determined to be 2/pi analytically\n",
    "\n",
    "N_critical = np.exp(C_critical*sparsity_factor)#change value of N to change the value of C"
   ]
  },
  {
   "cell_type": "code",
   "execution_count": 11,
   "metadata": {},
   "outputs": [
    {
     "data": {
      "text/plain": [
       "14.137166941154069"
      ]
     },
     "execution_count": 11,
     "metadata": {},
     "output_type": "execute_result"
    }
   ],
   "source": [
    "C_critical"
   ]
  },
  {
   "cell_type": "code",
   "execution_count": 57,
   "metadata": {},
   "outputs": [],
   "source": [
    "N_range = np.linspace(100, N_critical, num = 100)"
   ]
  },
  {
   "cell_type": "code",
   "execution_count": 64,
   "metadata": {},
   "outputs": [],
   "source": [
    "#run simulation for different alpha values by variying N and look at the last magnetization value for each simulation\n",
    "\n",
    "def run_simulation_n(n_array, temperature, epochs):\n",
    "    '''\n",
    "    Runs the simulation of parallel mean field updates.\n",
    "    \n",
    "    Arguments:\n",
    "        n_array(np.array): array with the different n_spin values\n",
    "        temperature(float): value of the temperature to run the simulations with\n",
    "        epochs(int): number of epochs you want to run each individual simulation for\n",
    "    '''\n",
    "    magnetization = []\n",
    "    stdev = []\n",
    "    for n in n_array:\n",
    "        IS = Ising(n_spins = int(n), temperature = temperature)\n",
    "        means = IS.simulateMeans(epochs)\n",
    "        mean_means = np.mean(means)\n",
    "        std = np.std(means)\n",
    "        magnetization.append(mean_means)\n",
    "        stdev.append(std)\n",
    "        \n",
    "    return magnetization, stdev"
   ]
  },
  {
   "cell_type": "code",
   "execution_count": null,
   "metadata": {},
   "outputs": [],
   "source": [
    "magnetization, std = run_simulation_n(N_range, 0.01, 100)"
   ]
  },
  {
   "cell_type": "markdown",
   "metadata": {},
   "source": [
    "# Simulation 2: fix T to 0.01 and look at alpha and magnetization (keep C and N fixed)\n"
   ]
  },
  {
   "cell_type": "code",
   "execution_count": 12,
   "metadata": {},
   "outputs": [],
   "source": [
    "IS = Ising(n_spins = 500, seed= 777)\n",
    "C_const = IS.getConnectivity()\n",
    "p_critical = (2*C_const)/np.pi -1"
   ]
  },
  {
   "cell_type": "code",
   "execution_count": 13,
   "metadata": {},
   "outputs": [
    {
     "data": {
      "text/plain": [
       "1.5464790894703255"
      ]
     },
     "execution_count": 13,
     "metadata": {},
     "output_type": "execute_result"
    }
   ],
   "source": [
    "p_critical"
   ]
  },
  {
   "cell_type": "code",
   "execution_count": 19,
   "metadata": {},
   "outputs": [
    {
     "data": {
      "text/plain": [
       "2"
      ]
     },
     "execution_count": 19,
     "metadata": {},
     "output_type": "execute_result"
    }
   ],
   "source": [
    "int(np.round(p_critical))"
   ]
  },
  {
   "cell_type": "code",
   "execution_count": 30,
   "metadata": {},
   "outputs": [],
   "source": [
    "p_range = np.linspace(1,20, num = 20).astype(int)"
   ]
  },
  {
   "cell_type": "code",
   "execution_count": 36,
   "metadata": {},
   "outputs": [],
   "source": [
    "alpha_range = (p_range -1)/C_const"
   ]
  },
  {
   "cell_type": "code",
   "execution_count": 38,
   "metadata": {},
   "outputs": [
    {
     "data": {
      "text/plain": [
       "(array([0.  , 0.25, 0.5 , 0.75, 1.  , 1.25, 1.5 , 1.75, 2.  , 2.25, 2.5 ,\n",
       "        2.75, 3.  , 3.25, 3.5 , 3.75, 4.  , 4.25, 4.5 , 4.75]),\n",
       " 4,\n",
       " 0.6366197723675814)"
      ]
     },
     "execution_count": 38,
     "metadata": {},
     "output_type": "execute_result"
    }
   ],
   "source": [
    "alpha_range, C_const, 2/np.pi"
   ]
  },
  {
   "cell_type": "code",
   "execution_count": 32,
   "metadata": {},
   "outputs": [],
   "source": [
    "#run simulation for different alpha values by variying N and look at the last magnetization value for each simulation\n",
    "\n",
    "def run_simulation_p(p_array, temperature, epochs):\n",
    "    '''\n",
    "    Runs the simulation of parallel mean field updates.\n",
    "    \n",
    "    Arguments:\n",
    "        p_array(np.array): array with different pattern amounts\n",
    "        temperature(float): value of the temperature to run the simulations with\n",
    "        epochs(int): number of epochs you want to run each individual simulation for\n",
    "    '''\n",
    "    magnetization = []\n",
    "    stdev = []\n",
    "    for p in p_array:\n",
    "        IS = Ising(p = p, temperature = temperature)\n",
    "        means = IS.simulateMeans(epochs)\n",
    "        mean_means = np.mean(means)\n",
    "        std = np.std(means)\n",
    "        magnetization.append(mean_means)\n",
    "        stdev.append(std)\n",
    "        \n",
    "    return magnetization, stdev"
   ]
  },
  {
   "cell_type": "code",
   "execution_count": 34,
   "metadata": {},
   "outputs": [],
   "source": [
    "magnetization, std = run_simulation_p(p_range, 0.01, 100)"
   ]
  },
  {
   "cell_type": "code",
   "execution_count": 39,
   "metadata": {},
   "outputs": [
    {
     "name": "stdout",
     "output_type": "stream",
     "text": [
      "0.05700973789900228 0.004191004946056291\n"
     ]
    },
    {
     "data": {
      "image/png": "[encoded data removed]",
      "text/plain": [
       "<Figure size 432x288 with 1 Axes>"
      ]
     },
     "metadata": {
      "needs_background": "light"
     },
     "output_type": "display_data"
    }
   ],
   "source": [
    "#plot simulation results     \n",
    "\n",
    "\n",
    "plt.scatter(alpha_range, magnetization, s=50, marker='o', color='RoyalBlue')\n",
    "plt.errorbar(alpha_range, magnetization, yerr=std, fmt='.k')\n",
    "plt.xlabel(\"Capacity (alpha)\", fontsize=20); \n",
    "plt.ylabel(\"Magnetization \", fontsize=20);   plt.axis('tight')\n",
    "\n",
    "print(np.mean(std),np.std(std))"
   ]
  },
  {
   "cell_type": "code",
   "execution_count": 4,
   "metadata": {},
   "outputs": [
    {
     "data": {
      "text/plain": [
       "0.5641895835477563"
      ]
     },
     "execution_count": 4,
     "metadata": {},
     "output_type": "execute_result"
    }
   ],
   "source": [
    "1/np.sqrt(np.pi)"
   ]
  },
  {
   "cell_type": "code",
   "execution_count": 7,
   "metadata": {},
   "outputs": [
    {
     "data": {
      "text/plain": [
       "1.1283791670955126"
      ]
     },
     "execution_count": 7,
     "metadata": {},
     "output_type": "execute_result"
    }
   ],
   "source": [
    "2/np.sqrt(np.pi)"
   ]
  },
  {
   "cell_type": "code",
   "execution_count": null,
   "metadata": {},
   "outputs": [],
   "source": []
  }
 ],
 "metadata": {
  "interpreter": {
   "hash": "0c7e5a7a99b01c4b81697c4eabcb9387bb734ab392583d1156de1c84d49394a4"
  },
  "kernelspec": {
   "display_name": "Python 3",
   "language": "python",
   "name": "python3"
  },
  "language_info": {
   "codemirror_mode": {
    "name": "ipython",
    "version": 3
   },
   "file_extension": ".py",
   "mimetype": "text/x-python",
   "name": "python",
   "nbconvert_exporter": "python",
   "pygments_lexer": "ipython3",
   "version": "3.8.8"
  }
 },
 "nbformat": 4,
 "nbformat_minor": 2
}
