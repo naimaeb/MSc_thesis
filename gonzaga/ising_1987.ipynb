{
 "cells": [
  {
   "cell_type": "code",
   "execution_count": 1,
   "metadata": {},
   "outputs": [],
   "source": [
    "import sklearn as skl\n",
    "import matplotlib.pyplot as plt\n",
    "import numpy as np\n",
    "import sys\n",
    "from scipy.stats import mode\n",
    "import warnings\n",
    "warnings.filterwarnings('ignore')\n",
    "\n",
    "from sklearn.utils.validation import check_is_fitted\n",
    "from sklearn.cluster import SpectralClustering\n",
    "from scipy.io import loadmat\n",
    "\n",
    "#Please use in all section ex"
   ]
  },
  {
   "cell_type": "code",
   "execution_count": 51,
   "metadata": {},
   "outputs": [],
   "source": [
    "#part of code from https://github.com/Patrick-Louden/Ising-Model/blob/master/ising.py\n",
    "\n",
    "import math\n",
    "import random\n",
    "\n",
    "\n",
    "class Ising(skl.base.BaseEstimator, skl.base.TransformerMixin):\n",
    "    def __init__(self,n_spins = 200, temperature = 1.0, sparsity = 100, seed = 117, p=10, overlap = 0.8):\n",
    "        self.temperature = temperature\n",
    "        self.n_spins = n_spins\n",
    "        self.sparsity = sparsity\n",
    "        self.n_C = np.ceil(np.log(n_spins)/sparsity).astype(int) #defined as in gardner, where C << logN\n",
    "        self.p = p #number of patterns\n",
    "        \n",
    "        #choose initial condition to align with one pattern (eg. 0.8 aligned)\n",
    "        self.spins = np.random.randint(2,size = (self.n_spins, 1))*2 -1 #initialize spin configuration, column vector\n",
    "        self.seed = seed\n",
    "        self.overlap = overlap #quantify the amount of overal you want with the first pattern and the inital spins\n",
    "    \n",
    "    def getSpins(self):\n",
    "        return self.spins\n",
    "    \n",
    "    \n",
    "    def randomPatterns(self):\n",
    "        np.random.seed(self.seed)\n",
    "        pattern_tensor = np.random.randint(2,size = (1,self.n_spins,self.p-1))*2 -1\n",
    "        \n",
    "        aligned_pattern = np.copy(self.spins).reshape(1,self.n_spins,1)\n",
    "        idx_no_align = random.sample(range(self.n_spins),int(self.overlap*self.n_spins))\n",
    "        aligned_pattern[:,idx_no_align,:] = aligned_pattern[:,idx_no_align,:]*-1\n",
    "\n",
    "        pattern_tensor_full = np.concatenate((aligned_pattern, pattern_tensor), axis = 2)\n",
    "\n",
    "        return pattern_tensor_full, aligned_pattern\n",
    "        \n",
    "    def randomPatternMatrix(self):\n",
    "        patterns_1d, pattern = self.randomPatterns()\n",
    "        pattern_matrix = np.tile(patterns_1d, (self.n_spins,1,1))\n",
    "        return pattern_matrix\n",
    "\n",
    "    def setTemperature(self,newTemperature):\n",
    "        self.temperature = newTemperature  \n",
    "\n",
    "    def getTemperature(self):\n",
    "        return self.temperature\n",
    "\n",
    "    def setConnectivity(self):\n",
    "        np.random.seed(self.seed)\n",
    "        '''\n",
    "        Create the connectivity matrix C, where the probability of Cij = 1 is C/N. Note that Cij does not\n",
    "        have to equal Cji. Also, there is no self-connectivity, so the diagonal of C is all 0's\n",
    "        '''\n",
    "        C_mat = np.random.binomial(1, self.n_C/self.n_spins, (self.n_spins,self.n_spins))\n",
    "        np.fill_diagonal(C_mat, 0)#no self connectivity in the model\n",
    "        return C_mat\n",
    "    \n",
    "    def setWeights(self):\n",
    "        pattern_matrix = self.randomPatternMatrix()\n",
    "        interactions = np.multiply(pattern_matrix, np.transpose(pattern_matrix,(1,0,2)))#look at the interactions within spins\n",
    "        interacions_across_patterns = np.sum(interactions, axis = 2)#sum the interactions across patterns\n",
    "        C_mat = self.setConnectivity()\n",
    "        J_mat = np.multiply(C_mat, interacions_across_patterns)\n",
    "        return J_mat\n",
    "    \n",
    "    def computeField(self):\n",
    "        J_mat = self.setWeights()\n",
    "        field_matrix = J_mat@self.spins\n",
    "        return field_matrix\n",
    "    \n",
    "    def getProbabilitySpin(self):\n",
    "        '''\n",
    "        Define the probability that the spin when updated equals +1, 1-prob = spin equals -1.\n",
    "        '''\n",
    "       \n",
    "        field = self.computeField()#get the field at time = t\n",
    "        temp = self.getTemperature() #get the temperature T\n",
    "        prob = (1/(1+np.exp(-2*field/temp)))\n",
    "        return prob\n",
    "    \n",
    "    def updateSpin(self):\n",
    "        '''\n",
    "        Update spins based on field and the probability of the spin value\n",
    "        '''\n",
    "        np.random.seed(self.seed)\n",
    "\n",
    "        spin_new = np.ones((self.n_spins,1))\n",
    "        prob = self.getProbabilitySpin()\n",
    "        rand_val = np.random.uniform(0,1) #if value is below prob, set spin to +1, else to -1\n",
    "        \n",
    "        for i in range(self.n_spins):\n",
    "            prob_spin = prob[i]\n",
    "            if rand_val > prob_spin:\n",
    "                spin_new[i] = 1\n",
    "        \n",
    "        self.spins = np.copy(spin_new)\n",
    "        \n",
    "        \n",
    "    def individualMean(self, idx):\n",
    "        '''\n",
    "        Calculate the interaction between an individual spin and the corresponding value in pattern 1\n",
    "        \n",
    "        Arguments:\n",
    "            idx (int): index at which you want to compute the interaction\n",
    "            pattern(int): pattern index with which you are looking at the overlap\n",
    "           \n",
    "        '''\n",
    "        \n",
    "        patterns, pattern = self.randomPatterns()\n",
    "        individual_pattern = pattern[:,idx,:]\n",
    "        \n",
    "        spins = self.spins\n",
    "        individual_spin = spins[idx]\n",
    "        \n",
    "        individual_mean = np.int(individual_pattern)*np.int(individual_spin)\n",
    "        \n",
    "        return individual_mean\n",
    "    \n",
    "    def averageMean(self):\n",
    "        '''\n",
    "        Calculate the averge mean field for all spins\n",
    "        \n",
    "        Arguments:\n",
    "            pattern(int): pattern index with which you are looking at the overlap\n",
    "        \n",
    "        '''\n",
    "        patterns, pattern = self.randomPatterns()#define the matrix of patterns and the one that will align\n",
    "        normalization = 1/self.n_spins\n",
    "        avg_mean = 0\n",
    "        \n",
    "        for idx in range(self.n_spins):\n",
    "            indiv_mean = self.individualMean(idx)\n",
    "            avg_mean += indiv_mean\n",
    "            \n",
    "        avg_mean_norm = normalization*avg_mean\n",
    "        \n",
    "        return avg_mean_norm \n",
    "\n",
    "\n"
   ]
  },
  {
   "cell_type": "code",
   "execution_count": 45,
   "metadata": {},
   "outputs": [],
   "source": [
    "IS = Ising()\n",
    "prob= IS.getProbabilitySpin()\n",
    "spins = IS.getSpins()\n",
    "J_mat = IS.setWeights()\n",
    "C_mat = IS.setConnectivity()\n",
    "\n",
    "rand_patterns, rand_pattern = IS.randomPatterns()\n",
    "\n",
    "indiv_mean = IS.individualMean(3)"
   ]
  },
  {
   "cell_type": "code",
   "execution_count": 50,
   "metadata": {},
   "outputs": [
    {
     "data": {
      "text/plain": [
       "(200, 1)"
      ]
     },
     "execution_count": 50,
     "metadata": {},
     "output_type": "execute_result"
    }
   ],
   "source": [
    "prob.shape"
   ]
  },
  {
   "cell_type": "raw",
   "metadata": {},
   "source": []
  },
  {
   "cell_type": "code",
   "execution_count": 4,
   "metadata": {},
   "outputs": [
    {
     "name": "stdout",
     "output_type": "stream",
     "text": [
      "Probability wrong in :\n",
      "(array([], dtype=int64), array([], dtype=int64))\n",
      "(array([], dtype=int64), array([], dtype=int64))\n"
     ]
    }
   ],
   "source": [
    "#Check that all probabilities are between 0 and 1\n",
    "\n",
    "print(\"Probability wrong in :\")\n",
    "print(np.where(prob > 1))\n",
    "print(np.where(prob <0))"
   ]
  },
  {
   "cell_type": "code",
   "execution_count": 5,
   "metadata": {},
   "outputs": [
    {
     "data": {
      "text/plain": [
       "array([-8, -6, -4, -2,  0,  2,  4,  6,  8, 10])"
      ]
     },
     "execution_count": 5,
     "metadata": {},
     "output_type": "execute_result"
    }
   ],
   "source": [
    "np.unique(J_mat)"
   ]
  },
  {
   "cell_type": "code",
   "execution_count": 8,
   "metadata": {},
   "outputs": [
    {
     "name": "stdout",
     "output_type": "stream",
     "text": [
      "[[0. 0.]\n",
      " [0. 0.]\n",
      " [1. 1.]\n",
      " [1. 1.]]\n"
     ]
    }
   ],
   "source": [
    "A = np.zeros((2,2))\n",
    "B = np.ones((2,2))\n",
    "C = np.concatenate((A,B), axis = 0)\n",
    "print(C)"
   ]
  },
  {
   "cell_type": "code",
   "execution_count": 11,
   "metadata": {},
   "outputs": [
    {
     "name": "stdout",
     "output_type": "stream",
     "text": [
      "[1, 2]\n"
     ]
    }
   ],
   "source": []
  },
  {
   "cell_type": "code",
   "execution_count": 52,
   "metadata": {},
   "outputs": [],
   "source": [
    "#run simulation for T = t\n",
    "\n",
    "def run_sim(epochs, IS):\n",
    "    \n",
    "    patterns, aligned_pattern = IS.randomPatterns()\n",
    "    init_mean = np.copy(IS.averageMean())\n",
    "    means = [init_mean]\n",
    "    \n",
    "    for e in range(epochs):\n",
    "        IS.updateSpin()\n",
    "        mean_new = np.copy(IS.averageMean())\n",
    "        means.append(mean_new)\n",
    "    \n",
    "    return means\n",
    "        \n",
    "    "
   ]
  },
  {
   "cell_type": "code",
   "execution_count": 55,
   "metadata": {},
   "outputs": [],
   "source": [
    "IS = Ising()\n",
    "\n",
    "means = run_sim(100,IS)"
   ]
  },
  {
   "cell_type": "code",
   "execution_count": 56,
   "metadata": {},
   "outputs": [
    {
     "data": {
      "text/plain": [
       "[array(-0.65),\n",
       " array(-0.65),\n",
       " array(-0.51),\n",
       " array(-0.6),\n",
       " array(-0.64),\n",
       " array(-0.53),\n",
       " array(-0.68),\n",
       " array(-0.68),\n",
       " array(-0.62),\n",
       " array(-0.67),\n",
       " array(-0.56),\n",
       " array(-0.64),\n",
       " array(-0.69),\n",
       " array(-0.59),\n",
       " array(-0.61),\n",
       " array(-0.52),\n",
       " array(-0.48),\n",
       " array(-0.53),\n",
       " array(-0.59),\n",
       " array(-0.68),\n",
       " array(-0.49),\n",
       " array(-0.65),\n",
       " array(-0.59),\n",
       " array(-0.63),\n",
       " array(-0.53),\n",
       " array(-0.51),\n",
       " array(-0.69),\n",
       " array(-0.59),\n",
       " array(-0.6),\n",
       " array(-0.59),\n",
       " array(-0.64),\n",
       " array(-0.67),\n",
       " array(-0.68),\n",
       " array(-0.6),\n",
       " array(-0.7),\n",
       " array(-0.71),\n",
       " array(-0.69),\n",
       " array(-0.64),\n",
       " array(-0.51),\n",
       " array(-0.55),\n",
       " array(-0.59),\n",
       " array(-0.57),\n",
       " array(-0.57),\n",
       " array(-0.54),\n",
       " array(-0.48),\n",
       " array(-0.53),\n",
       " array(-0.59),\n",
       " array(-0.65),\n",
       " array(-0.6),\n",
       " array(-0.64),\n",
       " array(-0.47),\n",
       " array(-0.68),\n",
       " array(-0.52),\n",
       " array(-0.67),\n",
       " array(-0.54),\n",
       " array(-0.63),\n",
       " array(-0.62),\n",
       " array(-0.6),\n",
       " array(-0.53),\n",
       " array(-0.63),\n",
       " array(-0.52),\n",
       " array(-0.56),\n",
       " array(-0.62),\n",
       " array(-0.62),\n",
       " array(-0.58),\n",
       " array(-0.51),\n",
       " array(-0.57),\n",
       " array(-0.67),\n",
       " array(-0.66),\n",
       " array(-0.7),\n",
       " array(-0.58),\n",
       " array(-0.69),\n",
       " array(-0.68),\n",
       " array(-0.65),\n",
       " array(-0.53),\n",
       " array(-0.53),\n",
       " array(-0.65),\n",
       " array(-0.54),\n",
       " array(-0.68),\n",
       " array(-0.58),\n",
       " array(-0.55),\n",
       " array(-0.66),\n",
       " array(-0.59),\n",
       " array(-0.64),\n",
       " array(-0.74),\n",
       " array(-0.58),\n",
       " array(-0.62),\n",
       " array(-0.58),\n",
       " array(-0.57),\n",
       " array(-0.69),\n",
       " array(-0.55),\n",
       " array(-0.67),\n",
       " array(-0.64),\n",
       " array(-0.65),\n",
       " array(-0.59),\n",
       " array(-0.58),\n",
       " array(-0.68),\n",
       " array(-0.59),\n",
       " array(-0.61),\n",
       " array(-0.48),\n",
       " array(-0.69)]"
      ]
     },
     "execution_count": 56,
     "metadata": {},
     "output_type": "execute_result"
    }
   ],
   "source": [
    "means"
   ]
  },
  {
   "cell_type": "code",
   "execution_count": null,
   "metadata": {},
   "outputs": [],
   "source": []
  }
 ],
 "metadata": {
  "interpreter": {
   "hash": "0c7e5a7a99b01c4b81697c4eabcb9387bb734ab392583d1156de1c84d49394a4"
  },
  "kernelspec": {
   "display_name": "Python 3",
   "language": "python",
   "name": "python3"
  },
  "language_info": {
   "codemirror_mode": {
    "name": "ipython",
    "version": 3
   },
   "file_extension": ".py",
   "mimetype": "text/x-python",
   "name": "python",
   "nbconvert_exporter": "python",
   "pygments_lexer": "ipython3",
   "version": "3.8.8"
  }
 },
 "nbformat": 4,
 "nbformat_minor": 2
}
